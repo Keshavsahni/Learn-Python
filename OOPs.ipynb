{
 "cells": [
  {
   "cell_type": "code",
   "execution_count": null,
   "metadata": {},
   "outputs": [
    {
     "data": {
      "text/plain": [
       "'suzuki'"
      ]
     },
     "execution_count": 1,
     "metadata": {},
     "output_type": "execute_result"
    }
   ],
   "source": [
    "# class Car:\n",
    "#     Brand='suzuki'# class attibute\n",
    "\n",
    "\n",
    "# c1=Car()  # c1 is object.\n",
    "# c1.Brand\n",
    "\n"
   ]
  },
  {
   "cell_type": "markdown",
   "metadata": {},
   "source": [
    "constructor is like a factory where all the sequences of action are defined in order to construct an object. It is a special method which is used to initialise newly created objects. it is called automatically when an object of a class is created. it allows you to setup the initial state of a setup."
   ]
  },
  {
   "cell_type": "code",
   "execution_count": 2,
   "metadata": {},
   "outputs": [
    {
     "data": {
      "text/plain": [
       "'Suzuki'"
      ]
     },
     "execution_count": 2,
     "metadata": {},
     "output_type": "execute_result"
    }
   ],
   "source": [
    "# CONSTRUCTORS\n",
    "class Car:\n",
    "    def __init__(self,name, model,brand):\n",
    "        self.name= name\n",
    "        self.maodel=model\n",
    "        self.brand=brand\n",
    "\n",
    "   \n",
    "\n",
    "\n",
    "c1=Car(\"wagonR\",2010,'Suzuki')  # c1 is object.\n",
    "c1.brand\n"
   ]
  },
  {
   "cell_type": "markdown",
   "metadata": {},
   "source": [
    "While initializing constructor we can not leave parantheses blank there has to be one parameter.that parameter will use for self referencing. hence traditionally it is written as self.\n",
    "\n",
    "it is a constructor that takes more than one argument. it is used to create an object with custom values of its attributes"
   ]
  },
  {
   "cell_type": "code",
   "execution_count": null,
   "metadata": {},
   "outputs": [
    {
     "name": "stdout",
     "output_type": "stream",
     "text": [
      "keshav\n",
      "21\n",
      "arjun\n",
      "24\n"
     ]
    }
   ],
   "source": [
    "class Person:\n",
    "    def __init__(self,name,age):\n",
    "        self.name=name\n",
    "        self.age=age\n",
    "\n",
    "persons=[Person('keshav',21),Person(\"arjun\",24)]\n",
    "\n",
    "for i in persons:\n",
    "    print(i.name)\n",
    "    print(i.age)\n",
    "\n"
   ]
  },
  {
   "cell_type": "code",
   "execution_count": 4,
   "metadata": {},
   "outputs": [
    {
     "name": "stdout",
     "output_type": "stream",
     "text": [
      "keshav\n",
      "21\n",
      "arjun\n",
      "24\n"
     ]
    }
   ],
   "source": [
    "#these constructors will have default values of arguments if user doesnt pass the value while constructing an object will have a default value\n",
    "class Person:\n",
    "    def __init__(self,name,age=21):\n",
    "        self.name=name\n",
    "        self.age=age\n",
    "\n",
    "persons=[Person('keshav'),Person(\"arjun\",24)]\n",
    "\n",
    "for i in persons:\n",
    "    print(i.name)\n",
    "    print(i.age)"
   ]
  },
  {
   "cell_type": "code",
   "execution_count": 7,
   "metadata": {},
   "outputs": [
    {
     "name": "stdout",
     "output_type": "stream",
     "text": [
      "press 0 to stop\n",
      "constructor started\n",
      "press 0 to stop\n",
      "constructor started\n",
      "press 0 to stop\n",
      "constructor started\n"
     ]
    }
   ],
   "source": [
    "#Q create a class where constructor initialise school name student count and teacher count set school namw as CBSE school as default\n",
    "\n",
    "class Schools:\n",
    "    def __init__ (self,schName,stuName):\n",
    "        self.schName=schName\n",
    "        self.stuName=stuName\n",
    "        print(\"constructor started\")\n",
    "\n",
    "i=0\n",
    "\n",
    "while True:\n",
    "    stName=input(\"enter student name: \")\n",
    "    scName=input(\"enter school name: \")\n",
    "    print(\"press 0 to stop\")\n",
    "    school=Schools(scName,stName)\n",
    "    school.schName\n",
    "    school.stuName\n",
    "    if stName=='0' or scName=='0':\n",
    "        break\n",
    "\n",
    "\n",
    "\n",
    "\n",
    "\n"
   ]
  },
  {
   "cell_type": "markdown",
   "metadata": {},
   "source": [
    "### ATTRIBUTES:\n",
    "* Attributes reffers to characterstics of properties of an object. they are the variables associated with an object\n",
    "* Attributes can be accessed by doat notations and their scope varies weather they have defined as instant level or class level.\n",
    "\n",
    "### CLASS ATTRIBUTES\n",
    "* they are shared among all the instances of class.\n",
    "* they are defined inside class but outside any instance method.\n",
    "\n",
    "### Instance attributes\n",
    "* These attributes belongs to specific instance/object.\n",
    "* Each object can have different value of instance attributes.\n",
    "* They are typically initialized in init(self)\n",
    "* They are created using \"self\" like self.attribute_ name = value\n"
   ]
  },
  {
   "cell_type": "code",
   "execution_count": null,
   "metadata": {},
   "outputs": [],
   "source": [
    "class Car:\n",
    "    def __init__(self,name, model,brand):\n",
    "        self.name= name\n",
    "        self.maodel=model\n",
    "        self.brand=brand\n",
    "\n",
    "   \n",
    "\n",
    "\n",
    "c1=Car(\"wagonR\",2010,'Suzuki')  # c1 is object.\n",
    "c1.brand\n"
   ]
  },
  {
   "cell_type": "markdown",
   "metadata": {},
   "source": [
    "Methods:\n",
    "Methods are functions that are defined inside a class. They play an important role in play an interactive \n",
    "like modifieng its state or performing actions based on the data.\n",
    "\n",
    "TYPES:\n",
    "Instance method \n",
    "class method \n",
    "static method \n",
    "property method\n",
    "magic method\n"
   ]
  },
  {
   "cell_type": "code",
   "execution_count": null,
   "metadata": {},
   "outputs": [
    {
     "data": {
      "text/plain": [
       "37.10937499999999"
      ]
     },
     "execution_count": 2,
     "metadata": {},
     "output_type": "execute_result"
    }
   ],
   "source": [
    "# Instance method\n",
    "#They are defined inside a class and they operate on instance attribuetes and return the state of the specific object\n",
    "# they tahe sell as first parameter ehich reffers to the current object of a class\n",
    "#Q create a class Health that takes weight and height as instance attributes\n",
    "# and create an instance method to calculate bmi\n",
    "\n",
    "class Health:\n",
    "    def __init__(self,height,weight):\n",
    "        self.height=height\n",
    "        self.weight=weight\n",
    "\n",
    "    def bmi(self):\n",
    "        bmi=self.weight/self.height**2\n",
    "        return bmi\n",
    "\n",
    "sarthak=Health(1.6,95)\n",
    "\n",
    "sarthak.bmi()"
   ]
  },
  {
   "cell_type": "markdown",
   "metadata": {},
   "source": [
    "Decorators are wrapper functions which are used to change or modify the behaviour of a function"
   ]
  },
  {
   "cell_type": "markdown",
   "metadata": {},
   "source": [
    "or class attributes"
   ]
  },
  {
   "cell_type": "code",
   "execution_count": null,
   "metadata": {},
   "outputs": [],
   "source": [
    "class Health:\n",
    "    def __init__(self,height,weight):\n",
    "        self.height=height\n",
    "        self.weight=weight\n",
    "\n",
    "    def bmi(self):\n",
    "        bmi=self.weight/self.height**2\n",
    "        return bmi\n",
    "    \n",
    "    @staticmethod\n",
    "    def display():\n",
    "        print(\"\")\n",
    "\n",
    "sarthak=Health(1.6,95)\n",
    "\n",
    "sarthak.bmi()\n",
    "\n",
    "\n"
   ]
  },
  {
   "cell_type": "markdown",
   "metadata": {},
   "source": [
    "Class Method:\n",
    "used to operate on class typically for modifying class level attributes \n",
    "\n",
    "\n",
    "\n",
    "static Method:\n",
    "these are simply utility functions which does'nt rely on any class or attribute data but can operate on given parameters "
   ]
  },
  {
   "cell_type": "code",
   "execution_count": null,
   "metadata": {},
   "outputs": [
    {
     "data": {
      "text/plain": [
       "90"
      ]
     },
     "execution_count": 15,
     "metadata": {},
     "output_type": "execute_result"
    }
   ],
   "source": [
    "class Speed:\n",
    "    def __init__(self,speeds):\n",
    "        self.speeds=speeds\n",
    "        # self.kmph_to_mph\n",
    "\n",
    "    @property\n",
    "    def kmph_to_mph(self):\n",
    "        return self.speeds*0.621\n",
    "    \n",
    "    @kmph_to_mph.setter\n",
    "    def kmph_to_mph(self,new_speed):\n",
    "        if self.new_speed<=0:\n",
    "            raise ValueError(\"speed cant be negative\")\n",
    "        else:\n",
    "            self.new_speed=new_speed\n",
    "    \n",
    "\n",
    "car=Speed(90)\n",
    "car.speeds\n",
    "\n",
    "# car.kmph_to_mph= -45\n",
    "\n"
   ]
  },
  {
   "cell_type": "code",
   "execution_count": 20,
   "metadata": {},
   "outputs": [],
   "source": [
    "kmph_to_mph= -45\n"
   ]
  },
  {
   "cell_type": "code",
   "execution_count": 51,
   "metadata": {},
   "outputs": [],
   "source": [
    "class Account:\n",
    "\n",
    "    def __init__(self,name,amount):\n",
    "        self.name=name\n",
    "        self.amount=amount\n",
    "\n",
    "\n",
    "    @property\n",
    "    def balance(self):\n",
    "        return self.amount\n",
    "    \n",
    "    @balance.setter\n",
    "    def balance(self,new_amount):\n",
    "        if new_amount <0:\n",
    "            raise ValueError(\"value cant be negative\")\n",
    "        \n",
    "        else:\n",
    "            self.amount=new_amount\n",
    "    "
   ]
  },
  {
   "cell_type": "code",
   "execution_count": 52,
   "metadata": {},
   "outputs": [
    {
     "data": {
      "text/plain": [
       "50000"
      ]
     },
     "execution_count": 52,
     "metadata": {},
     "output_type": "execute_result"
    }
   ],
   "source": [
    "b1=Account(\"keshav\",50000)\n",
    "b1.balance"
   ]
  },
  {
   "cell_type": "code",
   "execution_count": 53,
   "metadata": {},
   "outputs": [
    {
     "ename": "ValueError",
     "evalue": "value cant be negative",
     "output_type": "error",
     "traceback": [
      "\u001b[1;31m---------------------------------------------------------------------------\u001b[0m",
      "\u001b[1;31mValueError\u001b[0m                                Traceback (most recent call last)",
      "Cell \u001b[1;32mIn[53], line 1\u001b[0m\n\u001b[1;32m----> 1\u001b[0m \u001b[43mb1\u001b[49m\u001b[38;5;241;43m.\u001b[39;49m\u001b[43mbalance\u001b[49m\u001b[38;5;241m=\u001b[39m\u001b[38;5;241m-\u001b[39m\u001b[38;5;241m75000\u001b[39m\n",
      "Cell \u001b[1;32mIn[51], line 15\u001b[0m, in \u001b[0;36mAccount.balance\u001b[1;34m(self, new_amount)\u001b[0m\n\u001b[0;32m     12\u001b[0m \u001b[38;5;129m@balance\u001b[39m\u001b[38;5;241m.\u001b[39msetter\n\u001b[0;32m     13\u001b[0m \u001b[38;5;28;01mdef\u001b[39;00m \u001b[38;5;21mbalance\u001b[39m(\u001b[38;5;28mself\u001b[39m,new_amount):\n\u001b[0;32m     14\u001b[0m     \u001b[38;5;28;01mif\u001b[39;00m new_amount \u001b[38;5;241m<\u001b[39m\u001b[38;5;241m0\u001b[39m:\n\u001b[1;32m---> 15\u001b[0m         \u001b[38;5;28;01mraise\u001b[39;00m \u001b[38;5;167;01mValueError\u001b[39;00m(\u001b[38;5;124m\"\u001b[39m\u001b[38;5;124mvalue cant be negative\u001b[39m\u001b[38;5;124m\"\u001b[39m)\n\u001b[0;32m     17\u001b[0m     \u001b[38;5;28;01melse\u001b[39;00m:\n\u001b[0;32m     18\u001b[0m         \u001b[38;5;28mself\u001b[39m\u001b[38;5;241m.\u001b[39mamount\u001b[38;5;241m=\u001b[39mnew_amount\n",
      "\u001b[1;31mValueError\u001b[0m: value cant be negative"
     ]
    }
   ],
   "source": [
    "b1.balance=-75000"
   ]
  },
  {
   "cell_type": "code",
   "execution_count": 50,
   "metadata": {},
   "outputs": [
    {
     "data": {
      "text/plain": [
       "-75000"
      ]
     },
     "execution_count": 50,
     "metadata": {},
     "output_type": "execute_result"
    }
   ],
   "source": [
    "b1.balance"
   ]
  },
  {
   "cell_type": "code",
   "execution_count": 1,
   "metadata": {},
   "outputs": [],
   "source": [
    "class Testing:\n",
    "\n",
    "    def _init_(self,value):\n",
    "        self.value = value\n",
    "\n",
    "    @property               # getter\n",
    "    def my_value(self):\n",
    "        return self.value\n",
    "    \n",
    "    @my_value.setter        # setter\n",
    "    def my_value(self,new):\n",
    "        self.value = new\n",
    "        print(self.value)\n",
    "\n",
    "    @my_value.deleter\n",
    "    def my_value(self):\n",
    "        print('Its deleted')\n",
    "        del self.value"
   ]
  },
  {
   "cell_type": "code",
   "execution_count": 9,
   "metadata": {},
   "outputs": [],
   "source": [
    "class Accounts:\n",
    "    def __init__(self,name,amount):\n",
    "        self.name=name\n",
    "        self.amount=amount\n",
    "        \n",
    "    \n",
    "\n",
    "    @property\n",
    "    def bal(self):\n",
    "        return self.amount\n",
    "    @bal.setter\n",
    "    def bal(self,check):\n",
    "        if self.amount+check<2000:\n",
    "            raise ValueError(\"balance can't be less than 2000.\")\n",
    "        else:\n",
    "            self.amount=self.amount+check\n",
    "\n",
    "    @bal.deleter\n",
    "    def bal(self):\n",
    "        print(\"Thank you for banking with us.\")\n",
    "        self.amount=0\n"
   ]
  },
  {
   "cell_type": "code",
   "execution_count": 14,
   "metadata": {},
   "outputs": [],
   "source": [
    "cust1=Accounts(\"keshav\",20000)\n"
   ]
  },
  {
   "cell_type": "code",
   "execution_count": 15,
   "metadata": {},
   "outputs": [],
   "source": [
    "cust1.bal=-10000"
   ]
  },
  {
   "cell_type": "code",
   "execution_count": 16,
   "metadata": {},
   "outputs": [
    {
     "data": {
      "text/plain": [
       "10000"
      ]
     },
     "execution_count": 16,
     "metadata": {},
     "output_type": "execute_result"
    }
   ],
   "source": [
    "cust1.bal"
   ]
  },
  {
   "cell_type": "code",
   "execution_count": 8,
   "metadata": {},
   "outputs": [
    {
     "ename": "ValueError",
     "evalue": "balance can't be less than 2000.",
     "output_type": "error",
     "traceback": [
      "\u001b[1;31m---------------------------------------------------------------------------\u001b[0m",
      "\u001b[1;31mValueError\u001b[0m                                Traceback (most recent call last)",
      "Cell \u001b[1;32mIn[8], line 1\u001b[0m\n\u001b[1;32m----> 1\u001b[0m \u001b[43mcust1\u001b[49m\u001b[38;5;241;43m.\u001b[39;49m\u001b[43mbal\u001b[49m\u001b[38;5;241m=\u001b[39m\u001b[38;5;241m-\u001b[39m\u001b[38;5;241m8500\u001b[39m\n",
      "Cell \u001b[1;32mIn[4], line 14\u001b[0m, in \u001b[0;36mAccounts.bal\u001b[1;34m(self, check)\u001b[0m\n\u001b[0;32m     11\u001b[0m \u001b[38;5;129m@bal\u001b[39m\u001b[38;5;241m.\u001b[39msetter\n\u001b[0;32m     12\u001b[0m \u001b[38;5;28;01mdef\u001b[39;00m \u001b[38;5;21mbal\u001b[39m(\u001b[38;5;28mself\u001b[39m,check):\n\u001b[0;32m     13\u001b[0m     \u001b[38;5;28;01mif\u001b[39;00m \u001b[38;5;28mself\u001b[39m\u001b[38;5;241m.\u001b[39mamount\u001b[38;5;241m+\u001b[39mcheck\u001b[38;5;241m<\u001b[39m\u001b[38;5;241m2000\u001b[39m:\n\u001b[1;32m---> 14\u001b[0m         \u001b[38;5;28;01mraise\u001b[39;00m \u001b[38;5;167;01mValueError\u001b[39;00m(\u001b[38;5;124m\"\u001b[39m\u001b[38;5;124mbalance can\u001b[39m\u001b[38;5;124m'\u001b[39m\u001b[38;5;124mt be less than 2000.\u001b[39m\u001b[38;5;124m\"\u001b[39m)\n\u001b[0;32m     15\u001b[0m     \u001b[38;5;28;01melse\u001b[39;00m:\n\u001b[0;32m     16\u001b[0m         \u001b[38;5;28mself\u001b[39m\u001b[38;5;241m.\u001b[39mamount\u001b[38;5;241m=\u001b[39m\u001b[38;5;28mself\u001b[39m\u001b[38;5;241m.\u001b[39mamount\u001b[38;5;241m+\u001b[39mcheck\n",
      "\u001b[1;31mValueError\u001b[0m: balance can't be less than 2000."
     ]
    }
   ],
   "source": [
    "cust1.bal=-8500"
   ]
  },
  {
   "cell_type": "code",
   "execution_count": 17,
   "metadata": {},
   "outputs": [
    {
     "name": "stdout",
     "output_type": "stream",
     "text": [
      "Thank you for banking with us.\n"
     ]
    }
   ],
   "source": [
    "del cust1.bal"
   ]
  },
  {
   "cell_type": "code",
   "execution_count": null,
   "metadata": {},
   "outputs": [
    {
     "ename": "NameError",
     "evalue": "name 'cust1' is not defined",
     "output_type": "error",
     "traceback": [
      "\u001b[1;31m---------------------------------------------------------------------------\u001b[0m",
      "\u001b[1;31mNameError\u001b[0m                                 Traceback (most recent call last)",
      "Cell \u001b[1;32mIn[13], line 1\u001b[0m\n\u001b[1;32m----> 1\u001b[0m \u001b[43mcust1\u001b[49m\u001b[38;5;241m.\u001b[39mbal\n",
      "\u001b[1;31mNameError\u001b[0m: name 'cust1' is not defined"
     ]
    }
   ],
   "source": []
  },
  {
   "cell_type": "code",
   "execution_count": null,
   "metadata": {},
   "outputs": [
    {
     "data": {
      "text/plain": [
       "(5, 11)"
      ]
     },
     "execution_count": 18,
     "metadata": {},
     "output_type": "execute_result"
    }
   ],
   "source": [
    "#magic functions.\n",
    "class Point:\n",
    "    def __init__(self,x,y):\n",
    "        self.x=x\n",
    "        self.y=y\n",
    "    \n",
    "    def __add__(self,other):\n",
    "        return(self.x+other.x,self.y+other.y)\n",
    "    \n",
    "p1=Point(2,7)\n",
    "p2=Point(3,4)\n",
    "p1+p2\n",
    "\n",
    "    "
   ]
  },
  {
   "cell_type": "markdown",
   "metadata": {},
   "source": [
    "Public and private attributes \n",
    "public: \n",
    "\n",
    "private: these are the attributes that are hidden from the direct access but can be modified by getter and setter."
   ]
  },
  {
   "cell_type": "code",
   "execution_count": null,
   "metadata": {},
   "outputs": [],
   "source": [
    "class Car:\n",
    "    def __init__(self,make,color):\n",
    "        self.make=make\n",
    "        self.color=color\n",
    "\n"
   ]
  },
  {
   "cell_type": "code",
   "execution_count": null,
   "metadata": {},
   "outputs": [
    {
     "data": {
      "text/plain": [
       "'keshav'"
      ]
     },
     "execution_count": 22,
     "metadata": {},
     "output_type": "execute_result"
    }
   ],
   "source": [
    "class Customer:\n",
    "    def __init__(self, userId,password,balance):\n",
    "        self.userId=userId\n",
    "        self.__password=password\n",
    "        self.balance=balance\n",
    "\n",
    "    def passwordCheck(self):\n",
    "        if len(self.__password)>8:\n",
    "            print(\"password is valid\")\n",
    "        else:\n",
    "            print(\"password is invalid\")\n",
    "\n",
    "    def __balValidity(self):\n",
    "        if self.balance>2000:\n",
    "            print(self.balance)\n",
    "        else:\n",
    "            print('low balance.')\n",
    "\n",
    "    @property\n",
    "    def accessPass(self):\n",
    "        return self.__password\n",
    "c1=Customer(\"keshav\",\"Keshav@1234\",\"10000\")\n",
    "\n",
    "c1.userId"
   ]
  },
  {
   "cell_type": "code",
   "execution_count": 23,
   "metadata": {},
   "outputs": [
    {
     "name": "stdout",
     "output_type": "stream",
     "text": [
      "password is valid\n"
     ]
    }
   ],
   "source": [
    "c1.passwordCheck()"
   ]
  },
  {
   "cell_type": "code",
   "execution_count": 24,
   "metadata": {},
   "outputs": [
    {
     "data": {
      "text/plain": [
       "'Keshav@1234'"
      ]
     },
     "execution_count": 24,
     "metadata": {},
     "output_type": "execute_result"
    }
   ],
   "source": [
    "c1.accessPass"
   ]
  },
  {
   "cell_type": "code",
   "execution_count": 38,
   "metadata": {},
   "outputs": [],
   "source": [
    "# Inheritance\n",
    "# single inheritance\n",
    "class Device:\n",
    "    random=\"android\"\n",
    "    def __init__(self,brand,device_type):\n",
    "        self.brand=brand\n",
    "        self.device_type=device_type\n",
    "    def __str__(self):\n",
    "        return f'this is{self.device_type} from {self.brand}'\n",
    "    \n",
    "class Mobile(Device):\n",
    "    def __init__(self,ram,memory,brand,device_type):\n",
    "        Device.__init__(self,brand,device_type)\n",
    "        self.ram=ram\n",
    "        self.memory=memory\n",
    "    \n",
    "    def mobile_info(self):\n",
    "        return f'this is{self.device_type} from {self.brand} and has {self.ram} ram and {self.memory} memory {self.random}'\n",
    "    \n"
   ]
  },
  {
   "cell_type": "code",
   "execution_count": 39,
   "metadata": {},
   "outputs": [
    {
     "data": {
      "text/plain": [
       "'this isandroid from oppo and has 16 ram and 256 memory android'"
      ]
     },
     "execution_count": 39,
     "metadata": {},
     "output_type": "execute_result"
    }
   ],
   "source": [
    "oppo=Mobile(16,256,'oppo','android')\n",
    "\n",
    "oppo.mobile_info()"
   ]
  },
  {
   "cell_type": "code",
   "execution_count": 42,
   "metadata": {},
   "outputs": [],
   "source": [
    "class Device:\n",
    "    random=\"android\"\n",
    "    def __init__(self,brand,device_type):\n",
    "        self.brand=brand\n",
    "        self.device_type=device_type\n",
    "    def __str__(self):\n",
    "        return f'this is{self.device_type} from {self.brand}'\n",
    "    \n",
    "class Stock:\n",
    "    def __init__(self,brand):\n",
    "        self.brand=brand\n",
    "    def checkAvail(self):\n",
    "        if self.brand.lower() in ['apple','samsung','oppo','vivo','sony']:\n",
    "            print(\"this brand is available.\")\n",
    "        else:\n",
    "            print(\"this is not available.\")\n",
    "\n",
    "\n",
    "class Mobile(Device,Stock):\n",
    "    def __init__(self,ram,memory,brand,device_type):\n",
    "        Device.__init__(self,brand,device_type)\n",
    "        Stock.__init__(self,brand)\n",
    "        self.ram=ram\n",
    "        self.memory=memory\n",
    "    \n",
    "    def mobile_info(self):\n",
    "        return f'this is{self.device_type} from {self.brand} and has {self.ram} ram and {self.memory} memory {self.random}'\n",
    "    \n"
   ]
  },
  {
   "cell_type": "code",
   "execution_count": 43,
   "metadata": {},
   "outputs": [],
   "source": [
    "c11=Mobile(16,256,'oppo','Mobile')"
   ]
  },
  {
   "cell_type": "code",
   "execution_count": 45,
   "metadata": {},
   "outputs": [
    {
     "name": "stdout",
     "output_type": "stream",
     "text": [
      "this brand is available.\n"
     ]
    }
   ],
   "source": [
    "c11.checkAvail()"
   ]
  },
  {
   "cell_type": "code",
   "execution_count": 1,
   "metadata": {},
   "outputs": [],
   "source": [
    "#Hierrachical inheritance\n",
    "class Animal:\n",
    "    animal_type='mammal'\n",
    "    def sound(self):\n",
    "        print(\"animals have their own sound.\")\n",
    "\n",
    "class Dog(Animal):\n",
    "    def sound(self):\n",
    "        print(\"dog barks\")\n",
    "class Lion(Animal):\n",
    "    def sound(self):\n",
    "        print(\"lion roars\")\n",
    "class Cat(Animal):\n",
    "    def sound(self):\n",
    "        print(\"cat Meows\")\n",
    "\n"
   ]
  },
  {
   "cell_type": "code",
   "execution_count": 2,
   "metadata": {},
   "outputs": [
    {
     "data": {
      "text/plain": [
       "'mammal'"
      ]
     },
     "execution_count": 2,
     "metadata": {},
     "output_type": "execute_result"
    }
   ],
   "source": [
    "pet=Dog()\n",
    "\n",
    "pet.animal_type"
   ]
  },
  {
   "cell_type": "code",
   "execution_count": 3,
   "metadata": {},
   "outputs": [
    {
     "name": "stdout",
     "output_type": "stream",
     "text": [
      "dog barks\n"
     ]
    }
   ],
   "source": [
    "pet.sound()"
   ]
  },
  {
   "cell_type": "code",
   "execution_count": 10,
   "metadata": {},
   "outputs": [
    {
     "name": "stdout",
     "output_type": "stream",
     "text": [
      "animals have their own sound.\n"
     ]
    }
   ],
   "source": [
    "Animal().sound()"
   ]
  },
  {
   "cell_type": "code",
   "execution_count": 11,
   "metadata": {},
   "outputs": [
    {
     "data": {
      "text/plain": [
       "'mammal'"
      ]
     },
     "execution_count": 11,
     "metadata": {},
     "output_type": "execute_result"
    }
   ],
   "source": [
    "pet=Animal()\n",
    "pet.animal_type"
   ]
  },
  {
   "cell_type": "code",
   "execution_count": null,
   "metadata": {},
   "outputs": [],
   "source": [
    "class Vehicle:\n",
    "    def __init__(self,brand,model,year):\n",
    "        self.brand=brand\n",
    "        self.model=model\n",
    "        self.year=year\n",
    "\n",
    "    def display_info(self):\n",
    "        print(f'{self.brand}{self.model} was manufactured in year {self.year}')\n",
    "\n",
    "    def fuel_type(self):\n",
    "        print('every vehicle runs on different fuel type')\n",
    "\n",
    "class Car(Vehicle):\n",
    "    def fuel_type(self):\n",
    "        # Vehicle.__init__(self,brand,model,year)\n",
    "        print(\"cars run on petrol or diesel.\")\n",
    "\n",
    "class Bike(Vehicle):\n",
    "    def fuel_type(self):\n",
    "        # Vehicle.__init__(self,brand,model,year)\n",
    "        print(\"bike run on petrol.\")\n",
    "\n",
    "class Truck(Vehicle):\n",
    "    def fuel_type(self):\n",
    "        # Vehicle.__init__(self,brand,model,year)\n",
    "        print(\"trucks run on petrol or diesel.\")\n",
    "        \n",
    "        "
   ]
  },
  {
   "cell_type": "code",
   "execution_count": 7,
   "metadata": {},
   "outputs": [],
   "source": [
    " #Hybrid \n",
    "class A:\n",
    "    a=11\n",
    "    # def __init__(self):\n",
    "\n",
    "class B(A):\n",
    "    b=22\n",
    "class C(A):\n",
    "    c=33\n",
    "class D(B,C):\n",
    "    d=44"
   ]
  },
  {
   "cell_type": "code",
   "execution_count": 8,
   "metadata": {},
   "outputs": [
    {
     "data": {
      "text/plain": [
       "33"
      ]
     },
     "execution_count": 8,
     "metadata": {},
     "output_type": "execute_result"
    }
   ],
   "source": [
    "obj=D()\n",
    "\n",
    "obj.c"
   ]
  },
  {
   "cell_type": "code",
   "execution_count": 9,
   "metadata": {},
   "outputs": [
    {
     "data": {
      "text/plain": [
       "11"
      ]
     },
     "execution_count": 9,
     "metadata": {},
     "output_type": "execute_result"
    }
   ],
   "source": [
    "obj.a"
   ]
  },
  {
   "cell_type": "markdown",
   "metadata": {},
   "source": [
    "## Polymorphism\n",
    "* Polymorphism is a concept in oop's that allows objects of different classes to be treated as objects of common super class.it enables same method to behave differently based on the object that calls it.\n",
    "* In python polymorphism is achieved through method overriding or operator overloading."
   ]
  },
  {
   "cell_type": "markdown",
   "metadata": {},
   "source": [
    "### Duck Typing(dynamic Polymorphism)\n"
   ]
  },
  {
   "cell_type": "code",
   "execution_count": 12,
   "metadata": {},
   "outputs": [
    {
     "name": "stdout",
     "output_type": "stream",
     "text": [
      "dog barks\n",
      "cat Meows\n",
      "lion roars\n"
     ]
    }
   ],
   "source": [
    "pet1=Dog()\n",
    "pet2=Cat()\n",
    "pet3=Lion()\n",
    "\n",
    "for i in (pet1,pet2,pet3):\n",
    "    i.sound()"
   ]
  },
  {
   "cell_type": "code",
   "execution_count": 49,
   "metadata": {},
   "outputs": [],
   "source": [
    "class AdvanceLi:\n",
    "    def __init__(self,li):\n",
    "        self.li=li\n",
    "    def __add__(self,other):\n",
    "        res=[]\n",
    "        for i in range(len(self.li)):\n",
    "            res.append(self.li[i] + other.li[i])\n",
    "        return res\n",
    "\n",
    "\n"
   ]
  },
  {
   "cell_type": "code",
   "execution_count": 52,
   "metadata": {},
   "outputs": [
    {
     "data": {
      "text/plain": [
       "[8, 10, 12, 14]"
      ]
     },
     "execution_count": 52,
     "metadata": {},
     "output_type": "execute_result"
    }
   ],
   "source": [
    "li1=AdvanceLi([2,3,4,5])\n",
    "li2=AdvanceLi([6,7,8,9])\n",
    "li1+li2\n"
   ]
  },
  {
   "cell_type": "code",
   "execution_count": null,
   "metadata": {},
   "outputs": [],
   "source": [
    "#the concept of abstraction in oops is to hide the implementation details and showing only the essential features. the goal is to reduce complexity by providing \n",
    "#different interface. in python abstraction can be achieved through abstract class and second method abstraction\n",
    "\n",
    "# abstract class is a class that can not be insteantiated directly. it is meant to searved as base class for others\n",
    "from abc import ABC,abstractmethod\n",
    "class Shapes(ABC):\n",
    "    @abstractmethod\n",
    "    def area(self):\n",
    "        pass"
   ]
  },
  {
   "cell_type": "code",
   "execution_count": null,
   "metadata": {},
   "outputs": [],
   "source": []
  }
 ],
 "metadata": {
  "kernelspec": {
   "display_name": "Python 3",
   "language": "python",
   "name": "python3"
  },
  "language_info": {
   "codemirror_mode": {
    "name": "ipython",
    "version": 3
   },
   "file_extension": ".py",
   "mimetype": "text/x-python",
   "name": "python",
   "nbconvert_exporter": "python",
   "pygments_lexer": "ipython3",
   "version": "3.11.3"
  }
 },
 "nbformat": 4,
 "nbformat_minor": 2
}
