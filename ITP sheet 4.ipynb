{
 "cells": [
  {
   "cell_type": "markdown",
   "id": "a0ce2120",
   "metadata": {},
   "source": [
    "## List Comprehension"
   ]
  },
  {
   "cell_type": "raw",
   "id": "e8284eb7",
   "metadata": {},
   "source": [
    "What is a list comprehension?\n",
    "● A list comprehension provides a concise way to create another list\n",
    "● Using list comprehensions reduces the number of code lines making it. It look more \n",
    "elegant\n",
    "● It is possible to use conditions in a list comprehension\n",
    "● The list comprehension always returns a list"
   ]
  },
  {
   "cell_type": "code",
   "execution_count": null,
   "id": "d629ba6f",
   "metadata": {},
   "outputs": [],
   "source": [
    "# Syntax 1:   [value for value in iterable]                \n",
    "# Syntax 2:   [value for value in iterable if condition]   {used to filter the list}   \n",
    "# Syntax 3:   [val1 if cond else val2 for i in iterable]   {used to map the values over iterable}"
   ]
  },
  {
   "cell_type": "code",
   "execution_count": 1,
   "id": "ed53fb3d",
   "metadata": {},
   "outputs": [
    {
     "data": {
      "text/plain": [
       "[1, 2, 3, 4, 5]"
      ]
     },
     "execution_count": 1,
     "metadata": {},
     "output_type": "execute_result"
    }
   ],
   "source": [
    "[i for i in range(1,6)]"
   ]
  },
  {
   "cell_type": "code",
   "execution_count": 2,
   "id": "f859e4e7",
   "metadata": {},
   "outputs": [],
   "source": [
    "l=[]\n",
    "for i in range(1,6):\n",
    "    l.append(i)"
   ]
  },
  {
   "cell_type": "code",
   "execution_count": null,
   "id": "1ef3a0b3",
   "metadata": {},
   "outputs": [],
   "source": [
    "[i for i in range(10,16)]  # Eg Syntax 1"
   ]
  },
  {
   "cell_type": "code",
   "execution_count": null,
   "id": "e3828f26",
   "metadata": {},
   "outputs": [],
   "source": [
    "[i**2 for i in range(5)]   # Eg Syntax 1"
   ]
  },
  {
   "cell_type": "code",
   "execution_count": null,
   "id": "3467831f",
   "metadata": {},
   "outputs": [],
   "source": [
    "[i+2 for i in [23,43,56,12,88]] # Eg syntax 1"
   ]
  },
  {
   "cell_type": "code",
   "execution_count": null,
   "id": "e3b5fe83",
   "metadata": {},
   "outputs": [],
   "source": [
    "[i for i in range(1,21) if i%3==0] # Eg syntax 2"
   ]
  },
  {
   "cell_type": "code",
   "execution_count": 3,
   "id": "c9ec7aad",
   "metadata": {},
   "outputs": [
    {
     "data": {
      "text/plain": [
       "[21, 42, 63, 84]"
      ]
     },
     "execution_count": 3,
     "metadata": {},
     "output_type": "execute_result"
    }
   ],
   "source": [
    "[i for i in range(1,101) if i%7==0 and i%3==0]"
   ]
  },
  {
   "cell_type": "code",
   "execution_count": 4,
   "id": "5631451d",
   "metadata": {},
   "outputs": [
    {
     "data": {
      "text/plain": [
       "[58, 14, 90]"
      ]
     },
     "execution_count": 4,
     "metadata": {},
     "output_type": "execute_result"
    }
   ],
   "source": [
    "[i+2 for i in [23,43,56,12,88] if i%2==0] # Eg syntax 2"
   ]
  },
  {
   "cell_type": "code",
   "execution_count": 5,
   "id": "75bdf95c",
   "metadata": {},
   "outputs": [
    {
     "data": {
      "text/plain": [
       "[23, 43, 58, 14, 90]"
      ]
     },
     "execution_count": 5,
     "metadata": {},
     "output_type": "execute_result"
    }
   ],
   "source": [
    "[i+2 if i%2==0 else i for i in [23,43,56,12,88]] # Eg syntax 3"
   ]
  },
  {
   "cell_type": "code",
   "execution_count": 7,
   "id": "0c4b5425",
   "metadata": {},
   "outputs": [
    {
     "data": {
      "text/plain": [
       "[True, False, False, True, True, False]"
      ]
     },
     "execution_count": 7,
     "metadata": {},
     "output_type": "execute_result"
    }
   ],
   "source": [
    "li=[2,3,5,6,8,7]\n",
    "[True if i%2==0 else False for i in li]"
   ]
  },
  {
   "cell_type": "code",
   "execution_count": null,
   "id": "abde45ca",
   "metadata": {},
   "outputs": [],
   "source": [
    "['Odd' if i%2==1 else 'Even' for i in [3,6,9,12,18,21,24,27,30]]  # Eg syntax 3"
   ]
  },
  {
   "cell_type": "raw",
   "id": "b335d976",
   "metadata": {
    "vscode": {
     "languageId": "raw"
    }
   },
   "source": [
    "Q. Print a list between 1 to 50 where all the values are multiple of 3 and 5 both\n",
    "\n"
   ]
  },
  {
   "cell_type": "code",
   "execution_count": 9,
   "id": "6c1abc13",
   "metadata": {},
   "outputs": [
    {
     "data": {
      "text/plain": [
       "[15, 30, 45]"
      ]
     },
     "execution_count": 9,
     "metadata": {},
     "output_type": "execute_result"
    }
   ],
   "source": [
    "[i for i in range(1,51) if i%3==0 and i%5==0]"
   ]
  },
  {
   "cell_type": "raw",
   "id": "a034c6b0",
   "metadata": {},
   "source": [
    "Q. li = ['Apple','Kiwi','Mango','Banana','Papaya','Pear'] create a list of all the fruits which have 'a' in name"
   ]
  },
  {
   "cell_type": "code",
   "execution_count": 14,
   "id": "c4c5eb22",
   "metadata": {},
   "outputs": [
    {
     "data": {
      "text/plain": [
       "['Apple', 'Mango', 'Banana', 'Papaya', 'Pear']"
      ]
     },
     "execution_count": 14,
     "metadata": {},
     "output_type": "execute_result"
    }
   ],
   "source": [
    "li = ['Apple','Kiwi','Mango','Banana','Papaya','Pear']\n",
    "[i for i in li if 'a' in i.lower()]"
   ]
  },
  {
   "cell_type": "code",
   "execution_count": 15,
   "id": "3212ed53",
   "metadata": {},
   "outputs": [
    {
     "data": {
      "text/plain": [
       "[5, 4, 5, 6, 6, 4]"
      ]
     },
     "execution_count": 15,
     "metadata": {},
     "output_type": "execute_result"
    }
   ],
   "source": [
    "# Q. Create a new list with the no of characters in each fruit name\n",
    "\n",
    "[len(i) for i in li ]"
   ]
  },
  {
   "cell_type": "code",
   "execution_count": 16,
   "id": "5ea55c17",
   "metadata": {},
   "outputs": [
    {
     "data": {
      "text/plain": [
       "[1, 8, 27, 64, 125, 216, 343, 512, 729, 1000]"
      ]
     },
     "execution_count": 16,
     "metadata": {},
     "output_type": "execute_result"
    }
   ],
   "source": [
    "#Q. Print the cube of first 10 numbers\n",
    "[i**3 for i in range(1,11)]"
   ]
  },
  {
   "cell_type": "code",
   "execution_count": 17,
   "id": "9b347695",
   "metadata": {},
   "outputs": [
    {
     "data": {
      "text/plain": [
       "['alphabet', 'alphabet', 'alphanumber', 'alphanumber', 'alphabet']"
      ]
     },
     "execution_count": 17,
     "metadata": {},
     "output_type": "execute_result"
    }
   ],
   "source": [
    "#Q. strings = ['baby','muscle','dalmations101','hulk3','titanic']  create a list with value alphabet if movie name has only alphabets and alphanumber if movie name has alphabets and number\n",
    "strings = ['baby','muscle','dalmations101','hulk3','titanic']\n",
    "['alphabet' if i.isalpha() else 'alphanumber' for i in strings]"
   ]
  },
  {
   "cell_type": "raw",
   "id": "162e5bb8",
   "metadata": {},
   "source": [
    "Q. [-2,9,3,0,7,-4,0,5], create a list with values neg if number is negative pos if number is positive else zero."
   ]
  },
  {
   "cell_type": "code",
   "execution_count": 19,
   "id": "9237622c",
   "metadata": {},
   "outputs": [
    {
     "data": {
      "text/plain": [
       "['neg', 'pos', 'pos', 'zero', 'pos', 'neg', 'zero', 'pos']"
      ]
     },
     "execution_count": 19,
     "metadata": {},
     "output_type": "execute_result"
    }
   ],
   "source": [
    "['pos'if i>0 else 'neg' if i<0 else 'zero'for i in [-2,9,3,0,7,-4,0,5] ]"
   ]
  },
  {
   "cell_type": "code",
   "execution_count": null,
   "id": "570c0f62",
   "metadata": {},
   "outputs": [
    {
     "data": {
      "text/plain": [
       "[12, 6, 6, 15]"
      ]
     },
     "execution_count": 20,
     "metadata": {},
     "output_type": "execute_result"
    }
   ],
   "source": [
    "l1=[4,5,3,6]\n",
    "l2=[8,1,3,9]\n",
    "\n",
    "[x+y for x,y in zip(l1,l2)]"
   ]
  },
  {
   "cell_type": "code",
   "execution_count": null,
   "id": "a68dc91c",
   "metadata": {},
   "outputs": [],
   "source": [
    "l1=[4,5,3,6]\n",
    "l2=[8,1,3,9]\n",
    "\n",
    "l=[]"
   ]
  },
  {
   "cell_type": "code",
   "execution_count": 21,
   "id": "4526c331",
   "metadata": {},
   "outputs": [
    {
     "data": {
      "text/plain": [
       "{'Ajay': 67, 'Neha': 89, 'Mukesh': 90, 'Swati': 76}"
      ]
     },
     "execution_count": 21,
     "metadata": {},
     "output_type": "execute_result"
    }
   ],
   "source": [
    "name =['Ajay','Neha', 'Mukesh', 'Swati']\n",
    "marks = [67,89,90,76]\n",
    "\n",
    "{k:n for k,n in zip(name,marks) }"
   ]
  },
  {
   "cell_type": "code",
   "execution_count": 26,
   "id": "460b4bcf",
   "metadata": {},
   "outputs": [
    {
     "data": {
      "text/plain": [
       "{1: 1, 2: 8, 3: 27, 4: 64, 5: 125}"
      ]
     },
     "execution_count": 26,
     "metadata": {},
     "output_type": "execute_result"
    }
   ],
   "source": [
    "{w:e**3 for w,e in zip(range(1,6), range(1,6))}"
   ]
  },
  {
   "cell_type": "raw",
   "id": "293fef9d",
   "metadata": {},
   "source": [
    "Q. name =['Ajay','Neha', 'Mukesh', 'Swati']\n",
    "marks = [67,89,90,76]\n",
    "create a dictionary with two lists using list comprehension"
   ]
  },
  {
   "cell_type": "raw",
   "id": "d8c736a4",
   "metadata": {
    "vscode": {
     "languageId": "raw"
    }
   },
   "source": [
    "Q. create a dictionary where key is a fruit name and value is the length of the fruit name\n",
    "fruit = ['Apple','Kiwi','Mango','Banana','Papaya','Pear']\n"
   ]
  },
  {
   "cell_type": "code",
   "execution_count": null,
   "id": "fdbdceed",
   "metadata": {},
   "outputs": [
    {
     "data": {
      "text/plain": [
       "{'Apple': 5, 'Kiwi': 4, 'Mango': 5, 'Banana': 6, 'Papaya': 6, 'Pear': 4}"
      ]
     },
     "execution_count": 28,
     "metadata": {},
     "output_type": "execute_result"
    }
   ],
   "source": [
    "fruit = ['Apple','Kiwi','Mango','Banana','Papaya','Pear']\n",
    "{w:len(w) for w in fruit}"
   ]
  },
  {
   "cell_type": "code",
   "execution_count": 29,
   "id": "4969286b",
   "metadata": {},
   "outputs": [
    {
     "data": {
      "text/plain": [
       "{'Apple': 'odd',\n",
       " 'Kiwi': 'even',\n",
       " 'Mango': 'odd',\n",
       " 'Banana': 'even',\n",
       " 'Papaya': 'even',\n",
       " 'Pear': 'even'}"
      ]
     },
     "execution_count": 29,
     "metadata": {},
     "output_type": "execute_result"
    }
   ],
   "source": [
    "#Q. create a dictionary where key is a fruit name and value is odd if length of the fruit name is odd else even\n",
    "{k:'odd' if len(k)%2==1 else 'even' for k in fruit}"
   ]
  },
  {
   "cell_type": "code",
   "execution_count": null,
   "id": "9782a9d2",
   "metadata": {},
   "outputs": [
    {
     "name": "stdout",
     "output_type": "stream",
     "text": [
      "\n",
      "1 \n",
      "2 2 \n",
      "3 3 3 \n",
      "4 4 4 4 \n",
      "5 5 5 5 5 \n"
     ]
    }
   ],
   "source": [
    "for j in range(6):\n",
    "    for i in range(1,j+1):\n",
    "        print(i, end=\" \")\n",
    "    print()"
   ]
  },
  {
   "cell_type": "code",
   "execution_count": 35,
   "id": "7f892c88",
   "metadata": {},
   "outputs": [
    {
     "name": "stdout",
     "output_type": "stream",
     "text": [
      "\n",
      "1 \n",
      "2 2 \n",
      "3 3 3 \n",
      "4 4 4 4 \n",
      "5 5 5 5 5 \n"
     ]
    }
   ],
   "source": [
    "for j in range(6):\n",
    "    for i in range(1,j+1):\n",
    "        print(j, end=\" \")\n",
    "    print()"
   ]
  },
  {
   "cell_type": "code",
   "execution_count": 54,
   "id": "dd95e67f",
   "metadata": {},
   "outputs": [
    {
     "name": "stdout",
     "output_type": "stream",
     "text": [
      "\n",
      "* \n",
      "* * \n",
      "* * * \n",
      "* * * * \n",
      "* * * * * \n"
     ]
    }
   ],
   "source": [
    "for j in range(6):\n",
    "    for i in range(1,j+1):\n",
    "        print(\"*\", end=\" \")\n",
    "    print()"
   ]
  },
  {
   "cell_type": "code",
   "execution_count": null,
   "id": "f1664c90",
   "metadata": {},
   "outputs": [
    {
     "name": "stdout",
     "output_type": "stream",
     "text": [
      "\n",
      " \n",
      "*  \n",
      "** *  \n",
      "*** ** *  \n",
      "**** *** ** *  \n"
     ]
    }
   ],
   "source": [
    "for j in range(6):\n",
    "    for i in range(1,j+1):\n",
    "        print(\"*\" *(j-i), end=\" \")\n",
    "    print(\"\")"
   ]
  },
  {
   "cell_type": "code",
   "execution_count": 46,
   "id": "8a58f2b2",
   "metadata": {},
   "outputs": [
    {
     "name": "stdout",
     "output_type": "stream",
     "text": [
      "* * * * * * \n",
      "* * * * * \n",
      "* * * * \n",
      "* * * \n",
      "* * \n",
      "* \n",
      "\n"
     ]
    }
   ],
   "source": [
    "for j in range(6,-1,-1):\n",
    "    for i in range(j):\n",
    "        print(\"*\", end=\" \")\n",
    "    print()"
   ]
  },
  {
   "cell_type": "code",
   "execution_count": 55,
   "id": "82880c70",
   "metadata": {},
   "outputs": [
    {
     "name": "stdout",
     "output_type": "stream",
     "text": [
      "\n",
      "* \n",
      "* * \n",
      "* * * \n",
      "* * * * \n",
      "* * * * * \n",
      "* * * * * * \n",
      "* * * * * \n",
      "* * * * \n",
      "* * * \n",
      "* * \n",
      "* \n",
      "\n"
     ]
    }
   ],
   "source": [
    "for j in range(6):\n",
    "    for i in range(1,j+1):\n",
    "        print(\"*\", end=\" \")\n",
    "    print()\n",
    "\n",
    "for j in range(6,-1,-1):\n",
    "    for i in range(j):\n",
    "        print(\"*\", end=\" \")\n",
    "    print()"
   ]
  },
  {
   "cell_type": "code",
   "execution_count": 60,
   "id": "c5499bb4",
   "metadata": {},
   "outputs": [
    {
     "name": "stdout",
     "output_type": "stream",
     "text": [
      "0 1 1 2 3 5 8 13 21 34 55 89 "
     ]
    }
   ],
   "source": [
    "#fabonacci\n",
    "a,b=0,1\n",
    "fab=0\n",
    "print(a,b,sep=\" \",end=\" \")\n",
    "for i in range(10):\n",
    "    fab=a+b\n",
    "    print(fab,end=\" \")\n",
    "    a=b\n",
    "    b=fab\n",
    "\n",
    "\n"
   ]
  },
  {
   "cell_type": "code",
   "execution_count": 63,
   "id": "222481c7",
   "metadata": {},
   "outputs": [
    {
     "name": "stdout",
     "output_type": "stream",
     "text": [
      "0 1 1 2 3 5 8 13 21 34 55 89 "
     ]
    }
   ],
   "source": [
    "#fabonacci second way\n",
    "a,b=0,1\n",
    "fab=0\n",
    "for i in range(12):\n",
    "    print(a,end=\" \")\n",
    "    fab=a+b\n",
    "    a=b\n",
    "    b=fab\n",
    "\n",
    "\n"
   ]
  },
  {
   "cell_type": "code",
   "execution_count": 84,
   "id": "5475d622",
   "metadata": {},
   "outputs": [
    {
     "data": {
      "text/plain": [
       "[0, 1, 1, 2, 3, 5, 8, 13, 21, 34]"
      ]
     },
     "execution_count": 84,
     "metadata": {},
     "output_type": "execute_result"
    }
   ],
   "source": [
    "#fabonacci third way[LIST]\n",
    "\n",
    "listt=[0,1]\n",
    "for i in range(8):\n",
    "    next_num=listt[-1]+listt[-2]\n",
    "    listt.append(next_num)\n",
    "\n",
    "listt"
   ]
  },
  {
   "cell_type": "code",
   "execution_count": 64,
   "id": "da782bbf",
   "metadata": {},
   "outputs": [
    {
     "ename": "TypeError",
     "evalue": "can only concatenate str (not \"int\") to str",
     "output_type": "error",
     "traceback": [
      "\u001b[1;31m---------------------------------------------------------------------------\u001b[0m",
      "\u001b[1;31mTypeError\u001b[0m                                 Traceback (most recent call last)",
      "Cell \u001b[1;32mIn[64], line 3\u001b[0m\n\u001b[0;32m      1\u001b[0m num\u001b[38;5;241m=\u001b[39m\u001b[38;5;241m34\u001b[39m\n\u001b[0;32m      2\u001b[0m string\u001b[38;5;241m=\u001b[39m\u001b[38;5;124m\"\u001b[39m\u001b[38;5;124mHow are you?\u001b[39m\u001b[38;5;124m\"\u001b[39m\n\u001b[1;32m----> 3\u001b[0m \u001b[38;5;28mprint\u001b[39m(\u001b[43mstring\u001b[49m\u001b[38;5;241;43m+\u001b[39;49m\u001b[43mnum\u001b[49m)\n",
      "\u001b[1;31mTypeError\u001b[0m: can only concatenate str (not \"int\") to str"
     ]
    }
   ],
   "source": [
    "num=34\n",
    "string=\"How are you?\"\n",
    "print(string+num)"
   ]
  },
  {
   "cell_type": "code",
   "execution_count": null,
   "id": "01c28e44",
   "metadata": {},
   "outputs": [],
   "source": [
    "#AMICABLE\n",
    "num1=int(input(\"enter first number: \"))\n",
    "num2=int(input(\"enter second number: \"))\n",
    "fact1=[i for i in range(1,num1) if num%i==0]\n",
    "fact2=[i for i in range(1,num1) if num%i==0]\n",
    "\n",
    "if sum(fact1)==num2 and sum(fact2)==num1:\n",
    "    print('Amicable')\n",
    "else:\n",
    "    print(\"not Amicable\")\n"
   ]
  },
  {
   "cell_type": "code",
   "execution_count": null,
   "id": "89e52ad9",
   "metadata": {},
   "outputs": [],
   "source": [
    "#ARMSTRONG\n",
    "num_1= input(\"enter a number: \")\n",
    "len_of_digits=[int(i)**len(num_1) for i in num_1]\n",
    "\n",
    "if sum(len_of_digits)==int(num_1):\n",
    "    print(\"Armstrong\")\n",
    "else:\n",
    "    print(\"not Armstrong\")\n"
   ]
  },
  {
   "cell_type": "code",
   "execution_count": null,
   "id": "1c48a88d",
   "metadata": {},
   "outputs": [
    {
     "data": {
      "text/plain": [
       "[6, 7, 9]"
      ]
     },
     "execution_count": 70,
     "metadata": {},
     "output_type": "execute_result"
    }
   ],
   "source": [
    "amount=input(\"enter the number: \")\n",
    "# currency=[500,200,100,50,20,10,5,2,1]\n",
    "len_amount=[]\n",
    "for i in range(3):\n",
    "    len_amount.insert(0,amount%10)\n",
    "    amount=amount//10\n",
    "\n",
    "len_amount\n",
    "\n"
   ]
  },
  {
   "cell_type": "code",
   "execution_count": null,
   "id": "3655e748",
   "metadata": {},
   "outputs": [
    {
     "name": "stdout",
     "output_type": "stream",
     "text": [
      "500 X 0\n",
      "200 X 1\n",
      "100 X 0\n",
      "50 X 1\n",
      "20 X 0\n",
      "10 X 1\n",
      "5 X 1\n",
      "2 X 1\n",
      "1 X 0\n"
     ]
    },
    {
     "data": {
      "text/plain": [
       "25"
      ]
     },
     "execution_count": 76,
     "metadata": {},
     "output_type": "execute_result"
    }
   ],
   "source": [
    "#find denominant of the amount.\n",
    "amount=int(input(\"enter the number: \"))\n",
    "currency=[500,200,100,50,20,10,5,2,1]\n",
    "# len_amount=[]\n",
    "for i in currency:\n",
    "    print(i,\"X\",amount//i)\n",
    "    amount=amount%i\n",
    "25\n",
    "\n"
   ]
  },
  {
   "cell_type": "code",
   "execution_count": 78,
   "id": "e01910e8",
   "metadata": {},
   "outputs": [
    {
     "data": {
      "text/plain": [
       "[[1, 3, 5, 7], [2, 4, 6, 8]]"
      ]
     },
     "execution_count": 78,
     "metadata": {},
     "output_type": "execute_result"
    }
   ],
   "source": [
    "#transpose of an matrix\n",
    "\n",
    "lenn=[[1,2],[3,4],[5,6],[7,8]]\n",
    "\n",
    "[[i[j] for i in lenn]for j in range(2)]"
   ]
  },
  {
   "cell_type": "code",
   "execution_count": 82,
   "id": "22d3289a",
   "metadata": {},
   "outputs": [
    {
     "data": {
      "text/plain": [
       "[[11, 22, 33, 44, 55, 66, 77, 88, 99, 110],\n",
       " [12, 24, 36, 48, 60, 72, 84, 96, 108, 120],\n",
       " [13, 26, 39, 52, 65, 78, 91, 104, 117, 130],\n",
       " [14, 28, 42, 56, 70, 84, 98, 112, 126, 140],\n",
       " [15, 30, 45, 60, 75, 90, 105, 120, 135, 150],\n",
       " [16, 32, 48, 64, 80, 96, 112, 128, 144, 160],\n",
       " [17, 34, 51, 68, 85, 102, 119, 136, 153, 170],\n",
       " [18, 36, 54, 72, 90, 108, 126, 144, 162, 180],\n",
       " [19, 38, 57, 76, 95, 114, 133, 152, 171, 190],\n",
       " [20, 40, 60, 80, 100, 120, 140, 160, 180, 200]]"
      ]
     },
     "execution_count": 82,
     "metadata": {},
     "output_type": "execute_result"
    }
   ],
   "source": [
    "\n",
    "# new_list=[]\n",
    "\n",
    "[[i*j for i in range(1,11)]for j in range(11,21)]"
   ]
  },
  {
   "cell_type": "raw",
   "id": "7b076090",
   "metadata": {},
   "source": [
    "Q [[1,2,3],[1,2,3],[1,2,3]]"
   ]
  }
 ],
 "metadata": {
  "kernelspec": {
   "display_name": "Python 3",
   "language": "python",
   "name": "python3"
  },
  "language_info": {
   "codemirror_mode": {
    "name": "ipython",
    "version": 3
   },
   "file_extension": ".py",
   "mimetype": "text/x-python",
   "name": "python",
   "nbconvert_exporter": "python",
   "pygments_lexer": "ipython3",
   "version": "3.11.3"
  }
 },
 "nbformat": 4,
 "nbformat_minor": 5
}
