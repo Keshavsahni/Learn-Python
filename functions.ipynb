{
 "cells": [
  {
   "cell_type": "code",
   "execution_count": null,
   "metadata": {},
   "outputs": [],
   "source": [
    "a=int(input(\"enter first number: \"))\n",
    "b=int(input(\"enter second number: \"))\n",
    "\n",
    "def summ(a,b):\n",
    "    print(a+b)\n",
    "\n",
    "summ(a,b)"
   ]
  },
  {
   "cell_type": "markdown",
   "metadata": {},
   "source": [
    "## inbuilt function\n",
    "##### writing func name() is called calling a function.\n",
    "##### for eg: in len() , len is func name and () is a part syntax used to call a function\n",
    "##### We can pass arguments in a function: for eg: len(stri) so stri is an argument that is being passed. There can be different types or arguments"
   ]
  },
  {
   "cell_type": "markdown",
   "metadata": {},
   "source": [
    "### Functions\n",
    "##### functions are a block of coded to perform a specific task that are defined in a language which can be called as many times as we need "
   ]
  },
  {
   "cell_type": "markdown",
   "metadata": {},
   "source": [
    "## functions can be in built or they can be defined be the user\n",
    "### user defined functions\n",
    "##### function definition\n",
    "##### calling a function\n",
    "##### passing arguments\n",
    "##### return from a function\n",
    "\n",
    "\n",
    "### syntax: \n",
    "##### def funct_name(parameters):\n",
    "#####    statement1\n",
    "#####    statement2\n"
   ]
  },
  {
   "cell_type": "code",
   "execution_count": 24,
   "metadata": {},
   "outputs": [
    {
     "name": "stdout",
     "output_type": "stream",
     "text": [
      "Hello Learner\n",
      "Welcome to program\n"
     ]
    }
   ],
   "source": [
    "def greetings():\n",
    "    print(\"Hello Learner\")\n",
    "    print(\"Welcome to program\")\n",
    "\n",
    "greetings()"
   ]
  },
  {
   "cell_type": "code",
   "execution_count": 25,
   "metadata": {},
   "outputs": [
    {
     "name": "stdout",
     "output_type": "stream",
     "text": [
      "Hello keshav\n",
      "welcome to program\n"
     ]
    }
   ],
   "source": [
    "def hello_name(name):\n",
    "    print(\"Hello\",name)\n",
    "    print(\"welcome to program\")\n",
    "\n",
    "hello_name(\"keshav\")"
   ]
  },
  {
   "cell_type": "code",
   "execution_count": 27,
   "metadata": {},
   "outputs": [],
   "source": [
    "# sum of two variables\n",
    "a=int(input(\"enter first number: \"))\n",
    "b=int(input(\"enter second number: \"))\n",
    "\n",
    "def summ(a,b):\n",
    "    # print(a+b)\n",
    "    return a+b\n",
    "ans=summ(a,b)\n"
   ]
  },
  {
   "cell_type": "code",
   "execution_count": null,
   "metadata": {},
   "outputs": [
    {
     "name": "stdout",
     "output_type": "stream",
     "text": [
      "both are equal\n"
     ]
    }
   ],
   "source": [
    "# sum of two variables\n",
    "a=int(input(\"enter first number: \"))\n",
    "b=int(input(\"enter second number: \"))\n",
    "\n",
    "def maxx(a,b):\n",
    "    if a>b:\n",
    "        print(a)\n",
    "        return a\n",
    "    elif b>a:\n",
    "        print(b)\n",
    "        return b\n",
    "    else:\n",
    "        print(\"both are equal\")\n",
    "    \n",
    "maxx(a,b)\n",
    "\n"
   ]
  },
  {
   "cell_type": "markdown",
   "metadata": {},
   "source": [
    "##### why do we use return"
   ]
  },
  {
   "cell_type": "code",
   "execution_count": null,
   "metadata": {},
   "outputs": [
    {
     "name": "stdout",
     "output_type": "stream",
     "text": [
      "904.5\n"
     ]
    },
    {
     "ename": "TypeError",
     "evalue": "unsupported operand type(s) for +: 'int' and 'NoneType'",
     "output_type": "error",
     "traceback": [
      "\u001b[1;31m---------------------------------------------------------------------------\u001b[0m",
      "\u001b[1;31mTypeError\u001b[0m                                 Traceback (most recent call last)",
      "Cell \u001b[1;32mIn[16], line 8\u001b[0m\n\u001b[0;32m      4\u001b[0m     \u001b[38;5;28mprint\u001b[39m(si)\n\u001b[0;32m      6\u001b[0m si\u001b[38;5;241m=\u001b[39msimple_interest(\u001b[38;5;241m4500\u001b[39m,\u001b[38;5;241m6.7\u001b[39m,\u001b[38;5;241m3\u001b[39m)\n\u001b[1;32m----> 8\u001b[0m \u001b[38;5;241;43m4500\u001b[39;49m\u001b[38;5;241;43m+\u001b[39;49m\u001b[43msi\u001b[49m\n",
      "\u001b[1;31mTypeError\u001b[0m: unsupported operand type(s) for +: 'int' and 'NoneType'"
     ]
    }
   ],
   "source": [
    "# simple interest without return\n",
    "def simple_interest(principal,rate,time):\n",
    "    si=(principal*rate*time)/100\n",
    "    print(si)\n",
    "\n",
    "si=simple_interest(4500,6.7,3)\n",
    "\n",
    "4500+si\n"
   ]
  },
  {
   "cell_type": "code",
   "execution_count": null,
   "metadata": {},
   "outputs": [
    {
     "data": {
      "text/plain": [
       "5404.5"
      ]
     },
     "execution_count": 17,
     "metadata": {},
     "output_type": "execute_result"
    }
   ],
   "source": [
    "# simple interest with return\n",
    "def simple_interest(principal,rate,time):\n",
    "    si=(principal*rate*time)/100\n",
    "    return si\n",
    "\n",
    "si=simple_interest(4500,6.7,3)\n",
    "\n",
    "4500+si\n"
   ]
  },
  {
   "cell_type": "code",
   "execution_count": null,
   "metadata": {},
   "outputs": [
    {
     "data": {
      "text/plain": [
       "751.4676260000001"
      ]
     },
     "execution_count": 18,
     "metadata": {},
     "output_type": "execute_result"
    }
   ],
   "source": [
    "# read a radious of a circle and define to function to return the area of circle\n",
    "\n",
    "def cir_rad(radious):\n",
    "    return 3.14*radious**2\n",
    "\n",
    "rad=float(input(\"enter the radious: \"))\n",
    "cir_rad(rad)"
   ]
  },
  {
   "cell_type": "markdown",
   "metadata": {},
   "source": [
    "#### Scope of variables:\n",
    "##### variables a,b and c they are called local variables:\n",
    "##### their scope is limited to the function only.\n",
    "##### they are not recognized or defined outside the function.\n",
    "\n",
    "##### this means that the variable inside a function is different from the variable defined outside with same name."
   ]
  },
  {
   "cell_type": "code",
   "execution_count": null,
   "metadata": {},
   "outputs": [
    {
     "name": "stdout",
     "output_type": "stream",
     "text": [
      "hello friend\n"
     ]
    },
    {
     "data": {
      "text/plain": [
       "'this is global variable'"
      ]
     },
     "execution_count": 20,
     "metadata": {},
     "output_type": "execute_result"
    }
   ],
   "source": [
    "def mess():\n",
    "    message=\"hello friend\"# local variable\n",
    "    print(message)\n",
    "\n",
    "message=\"this is global variable\"# global variable\n",
    "\n",
    "mess()\n",
    "message"
   ]
  },
  {
   "cell_type": "code",
   "execution_count": null,
   "metadata": {},
   "outputs": [
    {
     "name": "stdout",
     "output_type": "stream",
     "text": [
      "hello friend keshav\n"
     ]
    }
   ],
   "source": [
    "name=\"keshav\"#global variable\n",
    "\n",
    "def mess():\n",
    "    message=\"hello friend\"# local variable\n",
    "    print(message,name)\n",
    "\n",
    "mess()\n",
    "\n",
    "# global variables can be used inside the functions\n",
    "# but local variables can't be use outside a block"
   ]
  },
  {
   "cell_type": "markdown",
   "metadata": {},
   "source": [
    "### Types of arguments:\n",
    "\n",
    "* positional Arguments\n",
    "* keyword Arguments\n",
    "* default arguments\n",
    "* variable length arguments(*args)\n",
    "* variable length keyword arguments(**kwargs)"
   ]
  },
  {
   "cell_type": "code",
   "execution_count": 29,
   "metadata": {},
   "outputs": [
    {
     "data": {
      "text/plain": [
       "5404.5"
      ]
     },
     "execution_count": 29,
     "metadata": {},
     "output_type": "execute_result"
    }
   ],
   "source": [
    "#positional arguments\n",
    "def simple_interest(principal,rate,time):\n",
    "    si=(principal*rate*time)/100\n",
    "    balance=principal+si\n",
    "    return balance\n",
    "# if i change the position it is not valid as it gives different output\n",
    "simple_interest(4500,6.7,3)"
   ]
  },
  {
   "cell_type": "code",
   "execution_count": 30,
   "metadata": {},
   "outputs": [
    {
     "data": {
      "text/plain": [
       "5404.5"
      ]
     },
     "execution_count": 30,
     "metadata": {},
     "output_type": "execute_result"
    }
   ],
   "source": [
    "#keyworded arguments\n",
    "simple_interest(rate=6.7,principal=4500,time=3)"
   ]
  },
  {
   "cell_type": "code",
   "execution_count": 32,
   "metadata": {},
   "outputs": [
    {
     "data": {
      "text/plain": [
       "5404.5"
      ]
     },
     "execution_count": 32,
     "metadata": {},
     "output_type": "execute_result"
    }
   ],
   "source": [
    "#default arguments\n",
    "def simple_interest(principal, rate ,time=3):\n",
    "    si=(principal*rate*time)/100\n",
    "    balance=principal+si\n",
    "    return balance\n",
    "\n",
    "simple_interest(4500,6.7)\n",
    "\n"
   ]
  },
  {
   "cell_type": "code",
   "execution_count": 33,
   "metadata": {},
   "outputs": [
    {
     "data": {
      "text/plain": [
       "61.6"
      ]
     },
     "execution_count": 33,
     "metadata": {},
     "output_type": "execute_result"
    }
   ],
   "source": [
    "#variable length argument\n",
    "def average(*num):\n",
    "    avg=sum(num)/len(num)\n",
    "    return avg\n",
    "\n",
    "average(25,43,78,93,69)"
   ]
  },
  {
   "cell_type": "code",
   "execution_count": null,
   "metadata": {},
   "outputs": [
    {
     "name": "stdout",
     "output_type": "stream",
     "text": [
      "name-->keshav\n",
      "age-->21\n",
      "height-->178\n"
     ]
    }
   ],
   "source": [
    "\n",
    "def description(**info):\n",
    "    for k,v in info.items():\n",
    "        print(f'{k}-->{v}')\n",
    "\n",
    "description(name=\"keshav\",age=21,height=178)\n",
    "\n"
   ]
  },
  {
   "cell_type": "code",
   "execution_count": 7,
   "metadata": {},
   "outputs": [
    {
     "data": {
      "text/plain": [
       "'vahsek'"
      ]
     },
     "execution_count": 7,
     "metadata": {},
     "output_type": "execute_result"
    }
   ],
   "source": [
    "string='keshav'\n",
    "\n",
    "string[::-1]"
   ]
  },
  {
   "cell_type": "code",
   "execution_count": null,
   "metadata": {},
   "outputs": [],
   "source": []
  }
 ],
 "metadata": {
  "kernelspec": {
   "display_name": "Python 3",
   "language": "python",
   "name": "python3"
  },
  "language_info": {
   "codemirror_mode": {
    "name": "ipython",
    "version": 3
   },
   "file_extension": ".py",
   "mimetype": "text/x-python",
   "name": "python",
   "nbconvert_exporter": "python",
   "pygments_lexer": "ipython3",
   "version": "3.11.3"
  }
 },
 "nbformat": 4,
 "nbformat_minor": 2
}
